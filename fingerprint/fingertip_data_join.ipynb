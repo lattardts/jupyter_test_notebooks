{
 "cells": [
  {
   "cell_type": "code",
   "execution_count": 1,
   "metadata": {},
   "outputs": [],
   "source": [
    "import pandas as pd\n"
   ]
  },
  {
   "cell_type": "code",
   "execution_count": 2,
   "metadata": {},
   "outputs": [],
   "source": [
    "def drop_y(df):\n",
    "    # list comprehension of the cols that end with '_y'\n",
    "    to_drop = [x for x in df if x.endswith('_y')]\n",
    "    return df.drop(to_drop, axis=1, inplace=True)"
   ]
  },
  {
   "cell_type": "code",
   "execution_count": 8,
   "metadata": {},
   "outputs": [
    {
     "name": "stdout",
     "output_type": "stream",
     "text": [
      "   Unnamed: 0  Unnamed: 0.1  \\\n",
      "0           0             0   \n",
      "\n",
      "                                           hyperlink assigned_to    lighting  \\\n",
      "0  =HYPERLINK(\"https://s3.console.aws.amazon.com/...        Mike  imbalanced   \n",
      "\n",
      "        sharpness cropping_quality Comments  nfiq_level  nfiq_value  \\\n",
      "0  somewhat_clear             good      NaN           5         0.9   \n",
      "\n",
      "   min_file_mean                   histogram_list  \n",
      "0       0.225987  [17 88 11  7 25  0  0  0  0  2]  \n",
      "   Unnamed: 0                                          hyperlink assigned_to  \\\n",
      "0           0  =HYPERLINK(\"https://s3.console.aws.amazon.com/...        Mike   \n",
      "\n",
      "     lighting       sharpness cropping_quality Comments  \n",
      "0  imbalanced  somewhat_clear             good      NaN  \n"
     ]
    }
   ],
   "source": [
    "#read the generated CSV\n",
    "df_generated = pd.read_csv('/home/lattard/PROJECTS/DATA/fingertip/generated_app_data_bad_detections_new.csv')\n",
    "\n",
    "#read the annotated CSV\n",
    "df_annotated = pd.read_csv('/home/lattard/PROJECTS/DATA/fingertip/app_data_bad_detections_annotations_sheet_.csv',)\n",
    "\n",
    "print(df_generated.head(1))\n",
    "print(df_annotated.head(1))"
   ]
  },
  {
   "cell_type": "code",
   "execution_count": 9,
   "metadata": {},
   "outputs": [
    {
     "name": "stdout",
     "output_type": "stream",
     "text": [
      "                                           hyperlink  lighting_x  \\\n",
      "0  =HYPERLINK(\"https://s3.console.aws.amazon.com/...  imbalanced   \n",
      "1  =HYPERLINK(\"https://s3.console.aws.amazon.com/...  imbalanced   \n",
      "2  =HYPERLINK(\"https://s3.console.aws.amazon.com/...  imbalanced   \n",
      "3  =HYPERLINK(\"https://s3.console.aws.amazon.com/...  imbalanced   \n",
      "4  =HYPERLINK(\"https://s3.console.aws.amazon.com/...  too_bright   \n",
      "\n",
      "      sharpness_x cropping_quality_x  nfiq_level  nfiq_value  \\\n",
      "0  somewhat_clear               good           5        0.90   \n",
      "1  somewhat_clear                bad           5        0.69   \n",
      "2  somewhat_clear                bad           5        1.00   \n",
      "3  somewhat_clear                bad           5        0.66   \n",
      "4  somewhat_clear                bad           5        0.76   \n",
      "\n",
      "                              histogram_list  min_file_mean  \n",
      "0            [17 88 11  7 25  0  0  0  0  2]       0.225987  \n",
      "1  [ 38 178   5   7   9   0   0   2   3   2]       0.183766  \n",
      "2            [35 75  3  7  3  0  0  0  0  0]       0.159398  \n",
      "3  [ 42 197  17   6   9   0   0   0   1   0]       0.166426  \n",
      "4            [15 37  3  9 11  0  0  0  3  2]       0.250800  \n"
     ]
    }
   ],
   "source": [
    "#joining sheets on hyperlink\n",
    "df_merged = pd.merge(df_annotated, df_generated, on='hyperlink')\n",
    "#print(df_merged.head(5))\n",
    "drop_y(df_merged)\n",
    "df = df_merged[['hyperlink', 'lighting_x', 'sharpness_x', 'cropping_quality_x', 'nfiq_level', 'nfiq_value', 'histogram_list', 'min_file_mean']]\n",
    "print(df.head(5))"
   ]
  },
  {
   "cell_type": "code",
   "execution_count": 11,
   "metadata": {},
   "outputs": [],
   "source": [
    "#saving the merged dataframe to CSV\n",
    "out_path = 'merged_fingerprint_data.xlsx'\n",
    "df.to_excel(out_path)"
   ]
  },
  {
   "cell_type": "markdown",
   "metadata": {},
   "source": [
    "# Merging the balanced lighting info and the merged file"
   ]
  },
  {
   "cell_type": "code",
   "execution_count": 10,
   "metadata": {},
   "outputs": [
    {
     "name": "stdout",
     "output_type": "stream",
     "text": [
      "       Unnamed: 0                                          hyperlink  \\\n",
      "0               0   Result_1595883968_5_78_detected_fingertips_0.jpg   \n",
      "1               1  Result_1595883968_5_109_detected_fingertips_0.jpg   \n",
      "2               2   Result_1595883968_5_34_detected_fingertips_1.jpg   \n",
      "3               3   Result_1595883968_5_53_detected_fingertips_0.jpg   \n",
      "4               4  Result_1595883968_5_119_detected_fingertips_1.jpg   \n",
      "...           ...                                                ...   \n",
      "11322       11322  Result_1595886903_IMG_0278_71_detected_fingert...   \n",
      "11323       11323  Result_1595886903_IMG_0278_83_detected_fingert...   \n",
      "11324       11324  Result_1595886903_IMG_0278_106_detected_finger...   \n",
      "11325       11325  Result_1595886903_IMG_0278_130_detected_finger...   \n",
      "11326       11326  Result_1595886903_IMG_0278_22_detected_fingert...   \n",
      "\n",
      "       lighting_x     sharpness_x cropping_quality_x  nfiq_level  nfiq_value  \\\n",
      "0      imbalanced  somewhat_clear               good           5        0.90   \n",
      "1      imbalanced  somewhat_clear                bad           5        0.69   \n",
      "2      imbalanced  somewhat_clear                bad           5        1.00   \n",
      "3      imbalanced  somewhat_clear                bad           5        0.66   \n",
      "4      too_bright  somewhat_clear                bad           5        0.76   \n",
      "...           ...             ...                ...         ...         ...   \n",
      "11322  imbalanced  somewhat_clear                NaN           5        0.79   \n",
      "11323        good  somewhat_clear                NaN           5        0.77   \n",
      "11324    too_dark  somewhat_clear                NaN           5        0.71   \n",
      "11325    too_dark       too_blury                NaN           5        0.72   \n",
      "11326        good  somewhat_clear                NaN           5        0.77   \n",
      "\n",
      "                                  histogram_list  min_file_mean  \\\n",
      "0                [17 88 11  7 25  0  0  0  0  2]       0.225987   \n",
      "1      [ 38 178   5   7   9   0   0   2   3   2]       0.183766   \n",
      "2                [35 75  3  7  3  0  0  0  0  0]       0.159398   \n",
      "3      [ 42 197  17   6   9   0   0   0   1   0]       0.166426   \n",
      "4                [15 37  3  9 11  0  0  0  3  2]       0.250800   \n",
      "...                                          ...            ...   \n",
      "11322            [ 9 41  6 16 11  0  0  0  1  3]       0.257494   \n",
      "11323            [ 8 24  3 18  6  0  0  0  2  0]       0.269295   \n",
      "11324            [ 8 27  1 15  0  0  0  1  0  0]       0.220192   \n",
      "11325            [ 8 27  0  0  0  0  0  0  0  0]       0.137457   \n",
      "11326            [ 7 25  9 11 11  0  0  0  3  6]       0.324653   \n",
      "\n",
      "      balanced_light     ratio  variance_mode  variance_mean  \n",
      "0               good  0.115186      5824.6875    2620.421153  \n",
      "1               good  0.073463      3963.6875    1921.551333  \n",
      "2         imbalanced  0.228384      3352.6875    1808.336765  \n",
      "3         imbalanced  0.185007      3113.6875    1903.161278  \n",
      "4               good  0.052479        10.5000     165.019066  \n",
      "...              ...       ...            ...            ...  \n",
      "11322           good  0.007492        33.1875      80.240811  \n",
      "11323           good  0.068684       222.2500     147.576926  \n",
      "11324           good  0.073451       156.1875      86.255661  \n",
      "11325           good  0.032808       135.2500      98.540520  \n",
      "11326           good  0.043416        90.6875      71.362278  \n",
      "\n",
      "[11327 rows x 13 columns]\n"
     ]
    }
   ],
   "source": [
    "#read the annotated file\n",
    "df_annot = pd.read_csv('/home/lattard/PROJECTS/DATA/fingertip/merged_fingerprint_data.csv')\n",
    "\n",
    "#read the generated CSV for balanced lighting\n",
    "df_lighting = pd.read_csv('/home/lattard/PROJECTS/DATA/fingertip/auto_balanced_lighting_variance_mode_mean_cropped.csv')\n",
    "#auto_balanced_lighting_check\n",
    "df_merged_lighting = pd.merge(df_annot, df_lighting, on='hyperlink')\n",
    "print(df_merged_lighting)\n",
    "df_merged_lighting.to_csv('/home/lattard/PROJECTS/DATA/fingertip/merged_lighting_variance_cropped.csv')"
   ]
  },
  {
   "cell_type": "code",
   "execution_count": 11,
   "metadata": {},
   "outputs": [],
   "source": [
    "#read the check file\n",
    "df_chk_light = pd.read_csv('/home/lattard/PROJECTS/DATA/fingertip/merged_lighting_variance_cropped.csv')"
   ]
  },
  {
   "cell_type": "code",
   "execution_count": 14,
   "metadata": {},
   "outputs": [],
   "source": [
    "df_chk_light.variance_mean = df_chk_light.variance_mean.astype(float)\n",
    "df_chk_sorted = df_chk_light.sort_values(by=['variance_mean'], ascending=True)\n",
    "df_chk_sorted.to_csv('/home/lattard/PROJECTS/DATA/fingertip/merged_lighting_chk_variance_sorted_cropped.csv')"
   ]
  }
 ],
 "metadata": {
  "kernelspec": {
   "display_name": "Python 3",
   "language": "python",
   "name": "python3"
  },
  "language_info": {
   "codemirror_mode": {
    "name": "ipython",
    "version": 3
   },
   "file_extension": ".py",
   "mimetype": "text/x-python",
   "name": "python",
   "nbconvert_exporter": "python",
   "pygments_lexer": "ipython3",
   "version": "3.8.3"
  }
 },
 "nbformat": 4,
 "nbformat_minor": 4
}
