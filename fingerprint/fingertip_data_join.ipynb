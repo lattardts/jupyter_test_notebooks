{
 "cells": [
  {
   "cell_type": "code",
   "execution_count": 1,
   "metadata": {},
   "outputs": [],
   "source": [
    "import pandas as pd\n"
   ]
  },
  {
   "cell_type": "code",
   "execution_count": 15,
   "metadata": {},
   "outputs": [],
   "source": [
    "def drop_y(df):\n",
    "    # list comprehension of the cols that end with '_y'\n",
    "    to_drop = [x for x in df if x.endswith('_y')]\n",
    "    return df.drop(to_drop, axis=1, inplace=True)"
   ]
  },
  {
   "cell_type": "code",
   "execution_count": 2,
   "metadata": {},
   "outputs": [
    {
     "name": "stdout",
     "output_type": "stream",
     "text": [
      "   Unnamed: 0  Unnamed: 0.1                                         hyperlink  \\\n",
      "0           0             0  Result_1595883968_5_78_detected_fingertips_0.jpg   \n",
      "\n",
      "    Result_1595883968_5_78_detected_fingertips_0.jpg assigned_to    lighting  \\\n",
      "0  Result_1595883968_5_109_detected_fingertips_0.jpg        Mike  imbalanced   \n",
      "\n",
      "        sharpness cropping_quality Comments  nfiq_level  nfiq_value  \\\n",
      "0  somewhat_clear             good      NaN           5         0.9   \n",
      "\n",
      "   min_file_mean                   histogram_list  \n",
      "0       0.225987  [17 88 11  7 25  0  0  0  0  2]  \n",
      "   Unnamed: 0                                         hyperlink assigned_to  \\\n",
      "0           0  Result_1595883968_5_78_detected_fingertips_0.jpg        Mike   \n",
      "\n",
      "     lighting       sharpness cropping_quality Comments  \n",
      "0  imbalanced  somewhat_clear             good      NaN  \n"
     ]
    }
   ],
   "source": [
    "#read the generated CSV\n",
    "df_generated = pd.read_csv('/home/lattard/PROJECTS/DATA/fingertip/app_data_bad_detections_new.csv')\n",
    "\n",
    "#read the annotated CSV\n",
    "df_annotated = pd.read_excel('/home/lattard/PROJECTS/DATA/fingertip/app_data_bad_detections_annotations.xlsx', sheet_name='app_data_bad_detections')\n",
    "\n",
    "print(df_generated.head(1))\n",
    "print(df_annotated.head(1))"
   ]
  },
  {
   "cell_type": "code",
   "execution_count": 22,
   "metadata": {},
   "outputs": [
    {
     "name": "stdout",
     "output_type": "stream",
     "text": [
      "                                           hyperlink  lighting_x  \\\n",
      "0   Result_1595883968_5_78_detected_fingertips_0.jpg  imbalanced   \n",
      "1  Result_1595883968_5_109_detected_fingertips_0.jpg  imbalanced   \n",
      "2   Result_1595883968_5_34_detected_fingertips_1.jpg  imbalanced   \n",
      "3   Result_1595883968_5_53_detected_fingertips_0.jpg  imbalanced   \n",
      "4  Result_1595883968_5_119_detected_fingertips_1.jpg  too_bright   \n",
      "\n",
      "      sharpness_x cropping_quality_x  nfiq_level  nfiq_value  \\\n",
      "0  somewhat_clear               good           5        0.90   \n",
      "1  somewhat_clear                bad           5        0.69   \n",
      "2  somewhat_clear                bad           5        1.00   \n",
      "3  somewhat_clear                bad           5        0.66   \n",
      "4  somewhat_clear                bad           5        0.76   \n",
      "\n",
      "                              histogram_list  min_file_mean  \n",
      "0            [17 88 11  7 25  0  0  0  0  2]       0.225987  \n",
      "1  [ 38 178   5   7   9   0   0   2   3   2]       0.183766  \n",
      "2            [35 75  3  7  3  0  0  0  0  0]       0.159398  \n",
      "3  [ 42 197  17   6   9   0   0   0   1   0]       0.166426  \n",
      "4            [15 37  3  9 11  0  0  0  3  2]       0.250800  \n"
     ]
    }
   ],
   "source": [
    "#joining sheets on hyperlink\n",
    "df_merged = pd.merge(df_annotated, df_generated, on='hyperlink')\n",
    "#print(df_merged.head(5))\n",
    "drop_y(df_merged)\n",
    "df = df_merged[['hyperlink', 'lighting_x', 'sharpness_x', 'cropping_quality_x', 'nfiq_level', 'nfiq_value', 'histogram_list', 'min_file_mean']]\n",
    "print(df.head(5))"
   ]
  },
  {
   "cell_type": "code",
   "execution_count": 23,
   "metadata": {},
   "outputs": [],
   "source": [
    "#saving the merged dataframe to CSV\n",
    "out_path = 'merged_fingerprint_data.csv'\n",
    "df.to_csv(out_path)"
   ]
  },
  {
   "cell_type": "markdown",
   "metadata": {},
   "source": [
    "# Merging the balanced lighting info and the merged file"
   ]
  },
  {
   "cell_type": "code",
   "execution_count": 7,
   "metadata": {},
   "outputs": [
    {
     "name": "stdout",
     "output_type": "stream",
     "text": [
      "       Unnamed: 0                                          hyperlink  \\\n",
      "0               0   Result_1595883968_5_78_detected_fingertips_0.jpg   \n",
      "1               1  Result_1595883968_5_109_detected_fingertips_0.jpg   \n",
      "2               2   Result_1595883968_5_34_detected_fingertips_1.jpg   \n",
      "3               3   Result_1595883968_5_53_detected_fingertips_0.jpg   \n",
      "4               4  Result_1595883968_5_119_detected_fingertips_1.jpg   \n",
      "...           ...                                                ...   \n",
      "11322       11322  Result_1595886903_IMG_0278_71_detected_fingert...   \n",
      "11323       11323  Result_1595886903_IMG_0278_83_detected_fingert...   \n",
      "11324       11324  Result_1595886903_IMG_0278_106_detected_finger...   \n",
      "11325       11325  Result_1595886903_IMG_0278_130_detected_finger...   \n",
      "11326       11326  Result_1595886903_IMG_0278_22_detected_fingert...   \n",
      "\n",
      "       lighting_x     sharpness_x cropping_quality_x  nfiq_level  nfiq_value  \\\n",
      "0      imbalanced  somewhat_clear               good           5        0.90   \n",
      "1      imbalanced  somewhat_clear                bad           5        0.69   \n",
      "2      imbalanced  somewhat_clear                bad           5        1.00   \n",
      "3      imbalanced  somewhat_clear                bad           5        0.66   \n",
      "4      too_bright  somewhat_clear                bad           5        0.76   \n",
      "...           ...             ...                ...         ...         ...   \n",
      "11322  imbalanced  somewhat_clear                NaN           5        0.79   \n",
      "11323        good  somewhat_clear                NaN           5        0.77   \n",
      "11324    too_dark  somewhat_clear                NaN           5        0.71   \n",
      "11325    too_dark       too_blury                NaN           5        0.72   \n",
      "11326        good  somewhat_clear                NaN           5        0.77   \n",
      "\n",
      "                                  histogram_list  min_file_mean  \\\n",
      "0                [17 88 11  7 25  0  0  0  0  2]       0.225987   \n",
      "1      [ 38 178   5   7   9   0   0   2   3   2]       0.183766   \n",
      "2                [35 75  3  7  3  0  0  0  0  0]       0.159398   \n",
      "3      [ 42 197  17   6   9   0   0   0   1   0]       0.166426   \n",
      "4                [15 37  3  9 11  0  0  0  3  2]       0.250800   \n",
      "...                                          ...            ...   \n",
      "11322            [ 9 41  6 16 11  0  0  0  1  3]       0.257494   \n",
      "11323            [ 8 24  3 18  6  0  0  0  2  0]       0.269295   \n",
      "11324            [ 8 27  1 15  0  0  0  1  0  0]       0.220192   \n",
      "11325            [ 8 27  0  0  0  0  0  0  0  0]       0.137457   \n",
      "11326            [ 7 25  9 11 11  0  0  0  3  6]       0.324653   \n",
      "\n",
      "      balanced_light     ratio  \n",
      "0               good  0.115186  \n",
      "1               good  0.073463  \n",
      "2         imbalanced  0.228384  \n",
      "3         imbalanced  0.185007  \n",
      "4               good  0.052479  \n",
      "...              ...       ...  \n",
      "11322           good  0.007492  \n",
      "11323           good  0.068684  \n",
      "11324           good  0.073451  \n",
      "11325           good  0.032808  \n",
      "11326           good  0.043416  \n",
      "\n",
      "[11327 rows x 11 columns]\n"
     ]
    }
   ],
   "source": [
    "#read the annotated file\n",
    "df_annot = pd.read_csv('/home/lattard/PROJECTS/DATA/fingertip/merged_fingerprint_data.csv')\n",
    "\n",
    "#read the generated CSV for balanced lighting\n",
    "df_lighting = pd.read_csv('/home/lattard/PROJECTS/DATA/fingertip/auto_balanced_lighting_check.csv')\n",
    "df_merged_lighting = pd.merge(df_annot, df_lighting, on='hyperlink')\n",
    "print(df_merged_lighting)\n",
    "df_merged_lighting.to_csv('/home/lattard/PROJECTS/DATA/fingertip/merged_lighting.csv')"
   ]
  },
  {
   "cell_type": "code",
   "execution_count": 9,
   "metadata": {},
   "outputs": [],
   "source": [
    "#read the check file\n",
    "df_chk_light = pd.read_csv('/home/lattard/PROJECTS/DATA/fingertip/chk_merged_lighting.csv')"
   ]
  },
  {
   "cell_type": "code",
   "execution_count": 21,
   "metadata": {},
   "outputs": [],
   "source": [
    "\n",
    "df_chk_sorted = df_chk_light.sort_values(by=['ratio'], ascending=True)\n",
    "df_chk_sorted.to_csv('/home/lattard/PROJECTS/DATA/fingertip/merged_lighting_chk_sorted.csv')"
   ]
  }
 ],
 "metadata": {
  "kernelspec": {
   "display_name": "Python 3",
   "language": "python",
   "name": "python3"
  },
  "language_info": {
   "codemirror_mode": {
    "name": "ipython",
    "version": 3
   },
   "file_extension": ".py",
   "mimetype": "text/x-python",
   "name": "python",
   "nbconvert_exporter": "python",
   "pygments_lexer": "ipython3",
   "version": "3.8.2"
  }
 },
 "nbformat": 4,
 "nbformat_minor": 4
}
